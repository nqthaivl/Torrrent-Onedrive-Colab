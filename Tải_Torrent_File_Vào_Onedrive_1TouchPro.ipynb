{
  "nbformat": 4,
  "nbformat_minor": 0,
  "metadata": {
    "colab": {
      "provenance": [],
      "include_colab_link": true
    },
    "kernelspec": {
      "name": "python3",
      "display_name": "Python 3"
    },
    "language_info": {
      "name": "python"
    }
  },
  "cells": [
    {
      "cell_type": "markdown",
      "metadata": {
        "id": "view-in-github",
        "colab_type": "text"
      },
      "source": [
        "<a href=\"https://colab.research.google.com/github/nqthaivl/Torrrent-Onedrive-Colab/blob/main/T%E1%BA%A3i_Torrent_File_V%C3%A0o_Onedrive_1TouchPro.ipynb\" target=\"_parent\"><img src=\"https://colab.research.google.com/assets/colab-badge.svg\" alt=\"Open In Colab\"/></a>"
      ]
    },
    {
      "cell_type": "markdown",
      "metadata": {
        "id": "cJzY3hfpLwPj"
      },
      "source": [
        "# <font color='orange'>TẢI TORRENT FILE VÀO ONEDRIVE\n",
        "Script 1Touch Pro - www.1touch.pro"
      ]
    },
    {
      "cell_type": "markdown",
      "metadata": {
        "id": "bBgmZJTe4Xkj"
      },
      "source": [
        "# 1.Cài đặt RClone và Libtorrent\n"
      ]
    },
    {
      "cell_type": "code",
      "metadata": {
        "id": "967x0RwzyWCb"
      },
      "source": [
        "!python -m pip install --upgrade pip setuptools wheel\n",
        "!python -m pip install lbry-libtorrent\n",
        "!wget https://downloads.rclone.org/v1.52.1/rclone-v1.52.1-linux-amd64.deb\n",
        "!apt install ./rclone-v1.52.1-linux-amd64.deb"
      ],
      "execution_count": null,
      "outputs": []
    },
    {
      "cell_type": "markdown",
      "metadata": {
        "id": "IMgeaazpytxI"
      },
      "source": [
        "# 2.<font color='orange'>Thêm file config RClone"
      ]
    },
    {
      "cell_type": "code",
      "metadata": {
        "id": "FD9JXMdiyiFH"
      },
      "source": [
        "# @markdown <h3>📝  Hướng dẫn tạo file config rclone</h3>\n",
        "# @markdown   <h4>👉  <a target=\"_blank\" rel=\"noopener\" href=\"https://www.youtube.com/watch?v=n8qghZC1Kuc\">Video hướng dẫn Windows</a></4>\n",
        "# @markdown   <h4>👉  <a target=\"_blank\" rel=\"noopener\" href=\"https://www.youtube.com/watch?v=1SIUmuSt8L0\">Video hướng dẫn Macos</a></4>\n",
        "Setup_Time_Zone = False\n",
        "\n",
        "import os; from google.colab import files; from IPython.display import HTML, clear_output\n",
        "\n",
        "def upload_conf():\n",
        "  try:\n",
        "    display(HTML(\"<h2 style=\\\"font-family:Trebuchet MS;color:#f9bd0d;\\\">Vui lòng upload file (rclone.conf) từ máy tính của bạn.</h2><br>\"))\n",
        "    UploadConfig = files.upload().keys()\n",
        "    clear_output(wait=True)\n",
        "    if len(UploadConfig) == 0:\n",
        "      return display(HTML(\"<center><h2 style=\\\"font-family:Trebuchet MS;color:#ce2121;\\\">Tải lên tệp đã bị hủy trong khi tải tệp lên.</h2><br></center>\"))\n",
        "    elif len(UploadConfig) == 1:\n",
        "      for fn in UploadConfig:\n",
        "        if os.path.isfile(\"/content/\" + fn) == True:\n",
        "          os.environ[\"rclone_conf\"] = fn\n",
        "          !mv -f \"$rclone_conf\" /root/.rclone.conf\n",
        "          !chmod 666 /root/.rclone.conf\n",
        "          if Setup_Time_Zone == True:\n",
        "            !sudo dpkg-reconfigure tzdata\n",
        "            clear_output(wait=True)\n",
        "          if os.path.isfile(\"/usr/bin/rclone\") == True:\n",
        "            return display(HTML(\"<center><h2 style=\\\"font-family:Trebuchet MS;color:#f50e02;\\\">Cấu hình đã được thay đổi.</h2><br></center>\"))\n",
        "          else:\n",
        "            !rm -rf /content/sample_data/\n",
        "            !curl -s https://rclone.org/install.sh | sudo bash\n",
        "            clear_output(wait=True)\n",
        "            return display(HTML(\"<center><h2 style=\\\"font-family:Trebuchet MS;color:#f9bd0d;\\\">Quá trình cài đặt đã hoàn tất thành công.</h2><br></center>\"))\n",
        "        else:\n",
        "          return display(HTML(\"<center><h2 style=\\\"font-family:Trebuchet MS;color:#f50e02;\\\">Tải lên tệp không thành công trong quá trình tải tệp lên.</h2><br></center>\"))\n",
        "    else:\n",
        "      for fn in UploadConfig:\n",
        "        os.environ[\"rclone_conf\"] = fn\n",
        "        !rm -f \"$rclone_conf\"\n",
        "      return display(HTML(\"<center><h2 style=\\\"font-family:Trebuchet MS;color:#f50e02;\\\">Vui lòng chỉ tải lên một tệp mỗi lần.</h2><br></center>\"))\n",
        "  except:\n",
        "    clear_output(wait=True)\n",
        "    return display(HTML(\"<center><h2 style=\\\"font-family:Trebuchet MS;color:#f50e02;\\\">Đã xảy ra lỗi trong quá trình tải tệp lên.</h2><br></center>\"))\n",
        "\n",
        "upload_conf()"
      ],
      "execution_count": null,
      "outputs": []
    },
    {
      "cell_type": "markdown",
      "metadata": {
        "id": "eqVwKRRQycuK"
      },
      "source": [
        "# 3.Thêm đĩa Onedrive vào<font color='yellow'>  Rclone"
      ]
    },
    {
      "cell_type": "code",
      "metadata": {
        "id": "UuAga4Edymzm"
      },
      "source": [
        "!mkdir onedrive\n",
        "!nohup rclone --vfs-cache-mode writes mount onedrive: ./onedrive &"
      ],
      "execution_count": null,
      "outputs": []
    },
    {
      "cell_type": "markdown",
      "metadata": {
        "id": "RRnxqKfoD1bO"
      },
      "source": [
        "kiểm tra đã liên kết OneDrive"
      ]
    },
    {
      "cell_type": "code",
      "metadata": {
        "id": "Fil_bHuAD8S3"
      },
      "source": [
        "!ls ./onedrive    #sau khi gắn OneDrive thành công, sau đó hiển thị các thư mục và tệp OneDrive của bạn"
      ],
      "execution_count": null,
      "outputs": []
    },
    {
      "cell_type": "markdown",
      "metadata": {
        "id": "kDDLXWX5xNce"
      },
      "source": [
        "# 4.Thêm <font color='orange'> magnet link/Torrent"
      ]
    },
    {
      "cell_type": "code",
      "metadata": {
        "id": "I7-OMxPiw8ms"
      },
      "source": [
        "!mkdir downloads\n",
        "link = input (\"Dán Magnet link / Torrent link vào\")\n",
        "\n",
        "import libtorrent as lt\n",
        "import time\n",
        "import datetime\n",
        "\n",
        "ses = lt.session()\n",
        "ses.listen_on(6881, 6891)\n",
        "params = {\n",
        "    'save_path': './downloads/',\n",
        "    'storage_mode': lt.storage_mode_t(2)}\n",
        "\n",
        "print(link)\n",
        "\n",
        "handle = lt.add_magnet_uri(ses, link, params)\n",
        "ses.start_dht()\n",
        "\n",
        "begin = time.time()\n",
        "print(datetime.datetime.now())\n",
        "\n",
        "print ('Tải dữ liệu ...')\n",
        "while (not handle.has_metadata()):\n",
        "    time.sleep(1)\n",
        "print ('Đang bắt đầu tải xuống torrent...')\n",
        "\n",
        "print(\"Bắt đầu\", handle.name())\n",
        "\n",
        "while (handle.status().state != lt.torrent_status.seeding):\n",
        "    s = handle.status()\n",
        "    state_str = ['queued', 'checking', 'downloading metadata', \\\n",
        "            'downloading', 'finished', 'seeding', 'allocating']\n",
        "    print ('%.2f%% hoàn thành (down: %.1f kb/s up: %.1f kB/s peers: %d) %s ' % \\\n",
        "            (s.progress * 100, s.download_rate / 1000, s.upload_rate / 1000, \\\n",
        "            s.num_peers, state_str[s.state]))\n",
        "    time.sleep(5)\n",
        "\n",
        "end = time.time()\n",
        "print(handle.name(), \"TẢI THÀNH CÔNG - HÃY CHUYỂN FILE VÀO ONEDRIVE\")\n",
        "\n",
        "print(\"Thời gian đã qua: \",int((end-begin)//60),\"phút :\", int((end-begin)%60), \"giây\")\n",
        "\n",
        "print(datetime.datetime.now())"
      ],
      "execution_count": null,
      "outputs": []
    },
    {
      "cell_type": "markdown",
      "metadata": {
        "id": "UICcSRW1y0bc"
      },
      "source": [
        "# 5 <font color='yellow'>.**Copy file** vào </font> Onedrive"
      ]
    },
    {
      "cell_type": "code",
      "metadata": {
        "id": "2oP2E-GRzAsn"
      },
      "source": [
        "!rsync -ah --progress downloads/ onedrive/            #Vui lòng đợi đến khi qua trình hoàn tất"
      ],
      "execution_count": null,
      "outputs": []
    },
    {
      "cell_type": "markdown",
      "metadata": {
        "id": "VhognXTLjXk7"
      },
      "source": [
        "<img src='https://i.pinimg.com/originals/71/3a/32/713a3272124cc57ba9e9fb7f59e9ab3b.gif' height=\"200\" />"
      ]
    }
  ]
}